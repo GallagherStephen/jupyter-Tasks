{
 "cells": [
  {
   "cell_type": "markdown",
   "metadata": {},
   "source": [
    "# TASKS\n",
    "\n",
    "These are my Solutions to the tasks assessment.The Author is Stephen Gallagher G00314689@gmit.ie\n",
    "***"
   ]
  },
  {
   "cell_type": "markdown",
   "metadata": {},
   "source": [
    "### Task: Calculate a Square Root\n",
    "***\n",
    "\n",
    "We can Calculate the square root of a number by using  Newtons method [1].\n",
    "\n",
    "To find the square root z of a number x, we can iterate using the following equation.\n",
    "\n",
    "$$ Z_{next}= z -\\frac{z^2 - x} {2z} $$\n",
    "\n",
    "References Below : \n",
    "[1] A tour of Go; Exercise: loops and functions; https://tour.goalang.org/flowcontrol/8\n",
    "***"
   ]
  },
  {
   "cell_type": "code",
   "execution_count": 1,
   "metadata": {},
   "outputs": [],
   "source": [
    "\"\"\"Function to calculate the square root of a number x.\"\"\" \n",
    "import math \n",
    "\n",
    "def sqrt(x):\n",
    "    # Initial guess for the square root of z\n",
    "    z = x / 2\n",
    "    # Loop till happy with the accuracy\n",
    "    while x -(z * z) > 0.001:\n",
    "        # calculate a better guess for the square root.\n",
    "        z-= (z * z - x ) / (2 * z )\n",
    "        #return the approximate square root of x.\n",
    "        return z"
   ]
  },
  {
   "cell_type": "markdown",
   "metadata": {},
   "source": [
    "# Tests of the function \n",
    "***\n",
    "Below we test the function with known values"
   ]
  },
  {
   "cell_type": "code",
   "execution_count": 2,
   "metadata": {},
   "outputs": [
    {
     "data": {
      "text/plain": [
       "10.0"
      ]
     },
     "execution_count": 2,
     "metadata": {},
     "output_type": "execute_result"
    }
   ],
   "source": [
    "# test the function on 100.\n",
    "import math\n",
    "math.sqrt(100)"
   ]
  },
  {
   "cell_type": "code",
   "execution_count": 3,
   "metadata": {},
   "outputs": [
    {
     "data": {
      "text/plain": [
       "1.4142135623730951"
      ]
     },
     "execution_count": 3,
     "metadata": {},
     "output_type": "execute_result"
    }
   ],
   "source": [
    "# test the function on 2.\n",
    "import math\n",
    "math.sqrt(2)"
   ]
  },
  {
   "cell_type": "code",
   "execution_count": null,
   "metadata": {},
   "outputs": [],
   "source": []
  }
 ],
 "metadata": {
  "kernelspec": {
   "display_name": "Python 3",
   "language": "python",
   "name": "python3"
  },
  "language_info": {
   "codemirror_mode": {
    "name": "ipython",
    "version": 3
   },
   "file_extension": ".py",
   "mimetype": "text/x-python",
   "name": "python",
   "nbconvert_exporter": "python",
   "pygments_lexer": "ipython3",
   "version": "3.8.3"
  }
 },
 "nbformat": 4,
 "nbformat_minor": 4
}
