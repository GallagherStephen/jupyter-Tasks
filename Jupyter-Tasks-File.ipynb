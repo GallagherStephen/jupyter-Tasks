{
 "cells": [
  {
   "cell_type": "markdown",
   "metadata": {},
   "source": [
    "# TASKS\n",
    "\n",
    "These are my Solutions to the tasks assessment.The Author is Stephen Gallagher G00314689@gmit.ie\n",
    "***"
   ]
  },
  {
   "cell_type": "markdown",
   "metadata": {},
   "source": [
    "## Task1:"
   ]
  },
  {
   "cell_type": "markdown",
   "metadata": {},
   "source": [
    "October 5th, 2020: Write a Python function called sqrt2 that calculates and\n",
    "prints to the screen the square root of 2 to 100 decimal places. Your code should\n",
    "not depend on any module from the standard library1 or otherwise. You should\n",
    "research the task first and include references and a description of your algorithm."
   ]
  },
  {
   "cell_type": "markdown",
   "metadata": {},
   "source": [
    "***\n",
    "### Task: Calculate a Square Root\n",
    "\n",
    "\n",
    "We can Calculate the square root of a number by using  Newtons method [1].\n",
    "\n",
    "To find the square root z of a number x, we can iterate using the following equation.\n",
    "\n",
    "$$ Z_{next}= z -\\frac{z^2 - x} {2z} $$\n",
    "\n",
    "References Below : \n",
    "[1] A tour of Go; Exercise: loops and functions; https://tour.goalang.org/flowcontrol/8\n",
    "***"
   ]
  },
  {
   "cell_type": "code",
   "execution_count": 22,
   "metadata": {},
   "outputs": [],
   "source": [
    "\"\"\"Function to calculate the square root of a number x.\"\"\" \n",
    "import math \n",
    "\n",
    "def sqrt(x):\n",
    "    # Initial guess for the square root of z\n",
    "    z = x / 2\n",
    "    # Loop till happy with the accuracy\n",
    "    while x -(z * z) > 0.001:\n",
    "        # calculate a better guess for the square root.\n",
    "        z-= (z * z - x ) / (2 * z )\n",
    "        #return the approximate square root of x.\n",
    "        return z"
   ]
  },
  {
   "cell_type": "markdown",
   "metadata": {},
   "source": [
    "***\n",
    "\n",
    "\n",
    "# Tests of the function: \n",
    "\n",
    "Below we test the function with known values.\n",
    "While also importing math."
   ]
  },
  {
   "cell_type": "code",
   "execution_count": 23,
   "metadata": {},
   "outputs": [
    {
     "data": {
      "text/plain": [
       "10.0"
      ]
     },
     "execution_count": 23,
     "metadata": {},
     "output_type": "execute_result"
    }
   ],
   "source": [
    "# test the function on 100. while importing math.\n",
    "import math\n",
    "math.sqrt(100)"
   ]
  },
  {
   "cell_type": "code",
   "execution_count": 24,
   "metadata": {},
   "outputs": [
    {
     "data": {
      "text/plain": [
       "1.4142135623730951"
      ]
     },
     "execution_count": 24,
     "metadata": {},
     "output_type": "execute_result"
    }
   ],
   "source": [
    "# test the function on 2.\n",
    "import math\n",
    "math.sqrt(2)"
   ]
  },
  {
   "cell_type": "markdown",
   "metadata": {},
   "source": [
    "***"
   ]
  },
  {
   "cell_type": "markdown",
   "metadata": {},
   "source": [
    "\n",
    "\n",
    "***\n",
    "## Python tries to keep it simple:\n",
    "\n",
    "This by keeping the number of digits manageable by displaying a rounded value.(In first equation below)\n",
    "\n",
    "They even allow for the use of strings to format the output using strings as seen below.(In second equation below)"
   ]
  },
  {
   "cell_type": "code",
   "execution_count": 25,
   "metadata": {},
   "outputs": [
    {
     "data": {
      "text/plain": [
       "0.1"
      ]
     },
     "execution_count": 25,
     "metadata": {},
     "output_type": "execute_result"
    }
   ],
   "source": [
    "1 / 10\n"
   ]
  },
  {
   "cell_type": "code",
   "execution_count": 26,
   "metadata": {},
   "outputs": [
    {
     "data": {
      "text/plain": [
       "'3.14'"
      ]
     },
     "execution_count": 26,
     "metadata": {},
     "output_type": "execute_result"
    }
   ],
   "source": [
    "import math\n",
    "format(math.pi, '.2f')   # give 2 digits after the point\n"
   ]
  },
  {
   "cell_type": "markdown",
   "metadata": {},
   "source": [
    "***"
   ]
  },
  {
   "cell_type": "markdown",
   "metadata": {},
   "source": [
    "***\n",
    "# repr() function:\n",
    "\n",
    "There are many different decimal numbers that share the same nearest approximate binary fraction.\n",
    "\n",
    "The built-in repr() function would choose one.\n",
    "\n",
    "This which helped as now python on most systems is now able to choose the shortest approximate binary fraction.\n",
    "\n",
    "\n",
    "#### repr() function explained below:\n",
    "\n",
    "repr(object)\n",
    "Return a string containing a printable representation of an object. For many types, this function makes an attempt to return a string that would yield an object with the same value when passed to eval(), otherwise the representation is a string enclosed in angle brackets that contains the name of the type of the object together with additional information often including the name and address of the object. A class can control what this function returns for its instances by defining a __repr__() method.\n",
    "\n",
    "***"
   ]
  },
  {
   "cell_type": "markdown",
   "metadata": {},
   "source": [
    "***\n",
    "## Python Has Tools to help Precision:\n",
    "\n",
    "Python provides many tools that help when you want to know the exact value  for eg : of a float. \n",
    "\n",
    "The float.as_integer_ratio() method expresses the value of a float as a fraction.\n",
    "\n",
    "### Definition below:\n",
    "\n",
    "float.as_integer_ratio()\n",
    "Return a pair of integers whose ratio is exactly equal to the original float and with a positive denominator.\n",
    "\n",
    "As you can see below it clarifies that the tool works to give exact value stored by the computer and this helps when porting accross different virsions of python."
   ]
  },
  {
   "cell_type": "code",
   "execution_count": 27,
   "metadata": {},
   "outputs": [
    {
     "data": {
      "text/plain": [
       "(3537115888337719, 1125899906842624)"
      ]
     },
     "execution_count": 27,
     "metadata": {},
     "output_type": "execute_result"
    }
   ],
   "source": [
    "x = 3.14159\n",
    "x.as_integer_ratio()"
   ]
  },
  {
   "cell_type": "code",
   "execution_count": 28,
   "metadata": {},
   "outputs": [
    {
     "data": {
      "text/plain": [
       "True"
      ]
     },
     "execution_count": 28,
     "metadata": {},
     "output_type": "execute_result"
    }
   ],
   "source": [
    " x == 3537115888337719 / 1125899906842624"
   ]
  },
  {
   "cell_type": "markdown",
   "metadata": {},
   "source": [
    "***\n",
    "\n",
    "## Using library to get to 100 decimal spaces:\n",
    "\n",
    "Below is a method that can be used to get 100 decimal spaces using the librarys"
   ]
  },
  {
   "cell_type": "code",
   "execution_count": 29,
   "metadata": {},
   "outputs": [
    {
     "data": {
      "text/plain": [
       "Decimal('1.414213562373095048801688724209698078569671875376948073176679737990732478462107038850387534327641573')"
      ]
     },
     "execution_count": 29,
     "metadata": {},
     "output_type": "execute_result"
    }
   ],
   "source": [
    "from decimal import *\n",
    "getcontext().prec = 100\n",
    "Decimal(2).sqrt()"
   ]
  },
  {
   "cell_type": "markdown",
   "metadata": {},
   "source": [
    "***\n",
    "\n",
    "## Representation Error:\n",
    "\n",
    "Representation error refers to decimal fractions being unable to be represented exactly as binary \"base 2\" fractions. This is the chief reason why for eg: Python, Perl, C, C++, Java, Fortran  won’t display the exact decimal number you expect.\n",
    "\n",
    "***"
   ]
  },
  {
   "cell_type": "markdown",
   "metadata": {},
   "source": [
    "***\n",
    "\n",
    "## Problem:\n",
    "\n",
    "with python trying to keep things manageable the number is never 100% accurate as they display a rounded number.\n",
    "And yes the more the decimal places the more accurate the value but python prints out  0's at the end of its calculations and not to more than usually 17 characters \n",
    "  (0.3333333333333300000000000000) .so you cannot see it for eg 100 decimal places using the math library.\n",
    "\n",
    "\n"
   ]
  },
  {
   "cell_type": "markdown",
   "metadata": {},
   "source": [
    "***\n",
    "## How to perform square root without using math module in Python:"
   ]
  },
  {
   "cell_type": "markdown",
   "metadata": {},
   "source": [
    "Python has exponentiation operator (**) which can be used to calculate power of a number. x**y returns x raised to y i.e. y times multiplication of x. Since we need to calculate square root, y should be (1/2)"
   ]
  },
  {
   "cell_type": "code",
   "execution_count": 30,
   "metadata": {},
   "outputs": [
    {
     "data": {
      "text/plain": [
       "3.1622776601683795"
      ]
     },
     "execution_count": 30,
     "metadata": {},
     "output_type": "execute_result"
    }
   ],
   "source": [
    "10**(1/2)"
   ]
  },
  {
   "cell_type": "code",
   "execution_count": 31,
   "metadata": {},
   "outputs": [
    {
     "data": {
      "text/plain": [
       "5.0"
      ]
     },
     "execution_count": 31,
     "metadata": {},
     "output_type": "execute_result"
    }
   ],
   "source": [
    "25**(1/2)"
   ]
  },
  {
   "cell_type": "markdown",
   "metadata": {},
   "source": [
    "## Newton's method:"
   ]
  },
  {
   "cell_type": "markdown",
   "metadata": {},
   "source": [
    "Newtons method is used to essentially take an initial number and find better approximations to the roots of a number. The process involves repeating the equation as many times as necessary to get a desired accuracy. Newtons method can be read further in link below in references."
   ]
  },
  {
   "cell_type": "markdown",
   "metadata": {},
   "source": [
    "## Solution: using non-library and library methods"
   ]
  },
  {
   "cell_type": "code",
   "execution_count": 32,
   "metadata": {},
   "outputs": [
    {
     "name": "stdout",
     "output_type": "stream",
     "text": [
      "1.4142135623730950488016887242096980785696718753769480731766797379907324784621070388503875343276415727\n"
     ]
    }
   ],
   "source": [
    "x = 2 * 10 ** 200\n",
    "\n",
    "r = x\n",
    "\n",
    "def test_diffs(x, r):\n",
    "    d0 = abs(x - r**2)\n",
    "    dm = abs(x - (r-1)**2)\n",
    "    dp = abs(x - (r+1)**2)\n",
    "    minimised = d0 <= dm and d0 <= dp\n",
    "    below_min = dp < dm\n",
    "    return minimised, below_min\n",
    "\n",
    "while True:\n",
    "    oldr = r\n",
    "    r = (r + x // r) // 2\n",
    "\n",
    "    minimised, below_min = test_diffs(x, r)\n",
    "    if minimised:\n",
    "        break\n",
    "\n",
    "    if r == oldr:\n",
    "        if below_min:\n",
    "            r += 1\n",
    "        else:\n",
    "            r -= 1\n",
    "        minimised, _ = test_diffs(x, r)\n",
    "        if minimised:\n",
    "            break\n",
    "\n",
    "print(f'{r // 10**100}.{r % 10**100:0100d}')"
   ]
  },
  {
   "cell_type": "code",
   "execution_count": 33,
   "metadata": {},
   "outputs": [
    {
     "data": {
      "text/plain": [
       "Decimal('1.4142135623730950488016887242096980785696718753769480731766797379907324784621070388503875343276415727')"
      ]
     },
     "execution_count": 33,
     "metadata": {},
     "output_type": "execute_result"
    }
   ],
   "source": [
    "import decimal\n",
    "decimal.getcontext().prec=101\n",
    "Decimal(\"2\").sqrt()"
   ]
  },
  {
   "cell_type": "markdown",
   "metadata": {},
   "source": [
    "***\n",
    "\n",
    "## Non-library Solution (Explained):"
   ]
  },
  {
   "cell_type": "markdown",
   "metadata": {},
   "source": [
    "As seen above demonstrated the way of getting the square root of 2 to 100 decimal places .This method where we used Pythons exponentiation operator (**).Which is used to calculate the power of a number.This which we used to get the result of the square root 2 to about 100 places,then formatted the result by using a formatted print statement.This giving the output of the square root of 2 to 100 decimal places . "
   ]
  },
  {
   "cell_type": "markdown",
   "metadata": {},
   "source": [
    "***\n",
    "## REFERENCES FOR TASK 1 :"
   ]
  },
  {
   "cell_type": "markdown",
   "metadata": {},
   "source": [
    "https://www.tutorialspoint.com/How-to-perform-square-root-without-using-math-module-in-Python"
   ]
  },
  {
   "cell_type": "markdown",
   "metadata": {},
   "source": [
    "https://stackoverflow.com/questions/46183020/square-root-without-pre-defined-function-in-python"
   ]
  },
  {
   "cell_type": "markdown",
   "metadata": {},
   "source": [
    "https://stackoverflow.com/questions/24362686/how-to-print-out-100-decimal-places-of-sqrt2"
   ]
  },
  {
   "cell_type": "markdown",
   "metadata": {},
   "source": [
    "https://en.wikipedia.org/wiki/Newton%27s_method"
   ]
  },
  {
   "cell_type": "markdown",
   "metadata": {},
   "source": [
    "***\n",
    "## Task 2:"
   ]
  },
  {
   "cell_type": "markdown",
   "metadata": {},
   "source": [
    "***\n",
    "TASK : November 2nd, 2020: The Chi-squared test for independence is a statistical\n",
    "hypothesis test like a t-test. It is used to analyse whether two categorical variables\n",
    "are independent. The Wikipedia article below gives the table below as an example,\n",
    "stating the Chi-squared value based on it is approximately 24.6. Use scipy.stats\n",
    "to verify this value and calculate the associated p value. You should include a short\n",
    "note with references justifying your analysis in a markdown cell."
   ]
  },
  {
   "cell_type": "markdown",
   "metadata": {},
   "source": [
    "![](task2.png)"
   ]
  },
  {
   "cell_type": "markdown",
   "metadata": {},
   "source": [
    "## scipy.stats.chi2_contingency Explained:"
   ]
  },
  {
   "cell_type": "markdown",
   "metadata": {},
   "source": [
    "This function computes the chi-square statistic and p-value for the hypothesis test of independence of observed frequencies in a contingency table. The expected frequencies are computed based on the marginal sums under the assumption of independence."
   ]
  },
  {
   "cell_type": "markdown",
   "metadata": {},
   "source": [
    "## chi-squared uses:\n",
    "\n",
    "used to compare two catagorical variables , gender , car colour , car make, do you smoke (yes or no)\n",
    "\n"
   ]
  },
  {
   "cell_type": "markdown",
   "metadata": {},
   "source": [
    "***\n",
    "## Solution: chi-squared test to prove value 24.6 is aprox accurate, and calculate pValue"
   ]
  },
  {
   "cell_type": "markdown",
   "metadata": {},
   "source": [
    "Data set taken, then reproduced the result as was done by person in wikipedia article as seen below:"
   ]
  },
  {
   "cell_type": "code",
   "execution_count": 5,
   "metadata": {},
   "outputs": [
    {
     "name": "stdout",
     "output_type": "stream",
     "text": [
      "0.0018369908954651245\n",
      "24.5712028585826\n"
     ]
    }
   ],
   "source": [
    "import scipy.stats as stats\n",
    "\n",
    "categories = [[90,60,104,95,349]],[[30,50,51,20,151]],[[30,40,45,35,150]]\n",
    "\n",
    "chi2,pValue,dof,exp = stats.chi2_contingency(categories)\n",
    "\n",
    "print(pValue)\n",
    "print(chi2)"
   ]
  },
  {
   "cell_type": "markdown",
   "metadata": {},
   "source": [
    "## REFERENCES FOR TASK 2 :"
   ]
  },
  {
   "cell_type": "markdown",
   "metadata": {},
   "source": [
    "https://www.youtube.com/watch?v=N34vryUA3Y8&ab_channel=FPSCPPSCOFFICIALdoctor"
   ]
  },
  {
   "cell_type": "markdown",
   "metadata": {},
   "source": [
    "https://docs.scipy.org/doc/scipy/reference/generated/scipy.stats.chi2_contingency.html"
   ]
  },
  {
   "cell_type": "markdown",
   "metadata": {},
   "source": [
    "## Task 3:"
   ]
  },
  {
   "cell_type": "markdown",
   "metadata": {},
   "source": [
    "TASK:\n",
    "November 16th, 2020: The standard deviation of an array of numbers x is\n",
    "calculated using numpy as np.sqrt(np.sum((x - np.mean(x))**2)/len(x)) .\n",
    "However, Microsoft Excel has two different versions of the standard deviation\n",
    "calculation, STDEV.P and STDEV.S . The STDEV.P function performs the above\n",
    "calculation but in the STDEV.S calculation the division is by len(x)-1 rather\n",
    "than len(x) . Research these Excel functions, writing a note in a Markdown cell\n",
    "about the difference between them. Then use numpy to perform a simulation\n",
    "demonstrating that the STDEV.S calculation is a better estimate for the standard\n",
    "deviation of a population when performed on a sample. Note that part of this task\n",
    "is to figure out the terminology in the previous sentence."
   ]
  },
  {
   "cell_type": "markdown",
   "metadata": {},
   "source": [
    "## Differences in functions STDEV.P & STDEV.S :"
   ]
  },
  {
   "cell_type": "markdown",
   "metadata": {},
   "source": [
    "- The STDEV. P function is used when your data represents the entire population.        ( P for population )\n",
    "- The STDEV. S function is used when your data is a sample of the entire population. ( S for population )"
   ]
  },
  {
   "cell_type": "markdown",
   "metadata": {},
   "source": [
    "## why we divide by N-1 for standard deviation :\n",
    "\n",
    "The reason we divide by n-1 is that it corrects the bias  because we are using the sample mean, instead of the population mean, to calculate the variance. Since the sample mean is based on the data, it will get drawn toward the center of mass for the data."
   ]
  },
  {
   "cell_type": "markdown",
   "metadata": {},
   "source": [
    "## Thoughts:"
   ]
  },
  {
   "cell_type": "markdown",
   "metadata": {},
   "source": [
    "According to most people the sample is more accurate because it takes random data from the dataset. You could have several values very high and some low and middle which makes the result not a valid indicator"
   ]
  },
  {
   "cell_type": "markdown",
   "metadata": {},
   "source": [
    "## Example on a Set:"
   ]
  },
  {
   "cell_type": "markdown",
   "metadata": {},
   "source": [
    "STDEV.P :"
   ]
  },
  {
   "attachments": {
    "deviation.PNG": {
     "image/png": "[encoded data removed]"
    }
   },
   "cell_type": "markdown",
   "metadata": {},
   "source": [
    "![deviation.PNG](attachment:deviation.PNG)"
   ]
  },
  {
   "cell_type": "markdown",
   "metadata": {},
   "source": [
    "STDEV.S :"
   ]
  },
  {
   "attachments": {
    "deviation2.PNG": {
     "image/png": "[encoded data removed]"
    }
   },
   "cell_type": "markdown",
   "metadata": {},
   "source": [
    "![deviation2.PNG](attachment:deviation2.PNG)"
   ]
  },
  {
   "cell_type": "markdown",
   "metadata": {},
   "source": [
    "## REFERENCES FOR TASK 3 :"
   ]
  },
  {
   "cell_type": "markdown",
   "metadata": {},
   "source": [
    "https://www.google.com/search?q=why+does+STDEV.S+devide+by+len(x)-1&rlz=1C1GCEU_en-GBIE924IE924&oq=why+does+STDEV.S+devide+by+len(x)-1&aqs=chrome..69i57.52089j0j7&sourceid=chrome&ie=UTF-8"
   ]
  },
  {
   "cell_type": "markdown",
   "metadata": {},
   "source": [
    "https://www.researchgate.net/post/Why-divide-by-n-1-when-estimating-standard-deviation"
   ]
  },
  {
   "cell_type": "code",
   "execution_count": null,
   "metadata": {},
   "outputs": [],
   "source": []
  },
  {
   "cell_type": "code",
   "execution_count": null,
   "metadata": {},
   "outputs": [],
   "source": []
  },
  {
   "cell_type": "code",
   "execution_count": null,
   "metadata": {},
   "outputs": [],
   "source": []
  }
 ],
 "metadata": {
  "kernelspec": {
   "display_name": "Python 3",
   "language": "python",
   "name": "python3"
  },
  "language_info": {
   "codemirror_mode": {
    "name": "ipython",
    "version": 3
   },
   "file_extension": ".py",
   "mimetype": "text/x-python",
   "name": "python",
   "nbconvert_exporter": "python",
   "pygments_lexer": "ipython3",
   "version": "3.8.3"
  }
 },
 "nbformat": 4,
 "nbformat_minor": 4
}
